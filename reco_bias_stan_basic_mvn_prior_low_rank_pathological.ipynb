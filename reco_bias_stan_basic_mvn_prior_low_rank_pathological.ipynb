{
 "cells": [
  {
   "cell_type": "code",
   "execution_count": 27,
   "metadata": {},
   "outputs": [
    {
     "data": {
      "text/plain": [
       "array([[0.9 , 0.05, 0.05],\n",
       "       [1.  , 0.  , 0.  ],\n",
       "       [0.  , 0.9 , 0.05],\n",
       "       [0.  , 1.  , 0.  ],\n",
       "       [0.  , 0.  , 1.  ]])"
      ]
     },
     "execution_count": 27,
     "metadata": {},
     "output_type": "execute_result"
    }
   ],
   "source": [
    "import matplotlib.pyplot as plt\n",
    "from scipy.special import expit\n",
    "from pylab import *\n",
    "from itertools import product\n",
    "city =   0\n",
    "drone =  1\n",
    "rice = 2\n",
    "couscous = 3\n",
    "beer = 4\n",
    "name_map = {city: 'city phone', drone: 'drone phone', rice: 'rice', couscous: 'couscous', beer: 'beer'}\n",
    "\n",
    "# An embedding provided that gives similarities between products\n",
    "Psi = array([[.9,0.05,0.05],[1,0,0],[0,.9,0.05],[0,1,0],[0,0,1]])\n",
    "P, K = Psi.shape\n",
    "\n",
    "Psi"
   ]
  },
  {
   "cell_type": "code",
   "execution_count": 28,
   "metadata": {},
   "outputs": [
    {
     "data": {
      "text/plain": [
       "array([[0.815 , 0.9   , 0.0475, 0.05  , 0.05  ],\n",
       "       [0.9   , 1.    , 0.    , 0.    , 0.    ],\n",
       "       [0.0475, 0.    , 0.8125, 0.9   , 0.05  ],\n",
       "       [0.05  , 0.    , 0.9   , 1.    , 0.    ],\n",
       "       [0.05  , 0.    , 0.05  , 0.    , 1.    ]])"
      ]
     },
     "execution_count": 28,
     "metadata": {},
     "output_type": "execute_result"
    }
   ],
   "source": [
    "matmul(Psi,Psi.T)"
   ]
  },
  {
   "cell_type": "code",
   "execution_count": 45,
   "metadata": {},
   "outputs": [],
   "source": [
    "P = 5 # number of products\n",
    "\n",
    "\n",
    "data = [{'a': city, 'h': [city], 'I': 10000, 'C': 100},\n",
    "        {'a': drone, 'h': [city], 'I': 10000, 'C': 200},\n",
    "        {'a': rice, 'h': [city], 'I': 0, 'C': 0},        \n",
    "        {'a': couscous, 'h': [city], 'I': 0, 'C': 0},\n",
    "        {'a': beer, 'h': [city], 'I': 0, 'C': 0},        \n",
    "        {'a': city, 'h': [drone], 'I': 10000, 'C': 100},\n",
    "        {'a': drone, 'h': [drone], 'I': 10000, 'C': 100},\n",
    "        {'a': rice, 'h': [drone], 'I': 0, 'C': 0},                          \n",
    "        {'a': couscous, 'h': [drone], 'I': 0, 'C': 0},\n",
    "        {'a': beer, 'h': [drone], 'I': 0, 'C': 0},\n",
    "        {'a': city, 'h': [rice], 'I': 0, 'C': 0},\n",
    "        {'a': drone, 'h': [rice], 'I': 0, 'C': 0},\n",
    "        {'a': rice, 'h': [rice], 'I': 10000, 'C': 100},        \n",
    "        {'a': couscous, 'h': [rice], 'I': 10000, 'C': 200},\n",
    "        {'a': beer, 'h': [rice], 'I': 0, 'C': 0},\n",
    "        {'a': city, 'h': [couscous], 'I': 0, 'C': 0},\n",
    "        {'a': drone, 'h': [couscous], 'I': 0, 'C': 0},\n",
    "        {'a': rice, 'h': [couscous], 'I': 10000, 'C': 200},        \n",
    "        {'a': couscous, 'h': [couscous], 'I': 10000, 'C': 100},\n",
    "        {'a': beer, 'h': [couscous], 'I': 0, 'C': 0},\n",
    "        {'a': city, 'h': [beer], 'I': 0, 'C': 0},\n",
    "        {'a': drone, 'h': [beer], 'I': 0, 'C': 0},\n",
    "        {'a': rice, 'h': [beer], 'I': 0, 'C': 0},        \n",
    "        {'a': couscous, 'h': [beer], 'I': 0, 'C': 0},\n",
    "        {'a': beer, 'h': [beer], 'I': 10000, 'C': 200}]\n",
    "\n",
    "\n",
    "# unlucky in the sense that we get 1/1 click when h=beer and a=city\n",
    "data_unlucky = [{'a': city, 'h': [city], 'I': 1000, 'C': 10},\n",
    "        {'a': drone, 'h': [city], 'I': 1000, 'C': 20},\n",
    "        {'a': rice, 'h': [city], 'I': 0, 'C': 0},        \n",
    "        {'a': couscous, 'h': [city], 'I': 0, 'C': 0},\n",
    "        {'a': beer, 'h': [city], 'I': 0, 'C': 0},        \n",
    "        {'a': city, 'h': [drone], 'I': 1000, 'C': 10},\n",
    "        {'a': drone, 'h': [drone], 'I': 1000, 'C': 10},\n",
    "        {'a': rice, 'h': [drone], 'I': 0, 'C': 0},                          \n",
    "        {'a': couscous, 'h': [drone], 'I': 0, 'C': 0},\n",
    "        {'a': beer, 'h': [drone], 'I': 0, 'C': 0},\n",
    "        {'a': city, 'h': [rice], 'I': 0, 'C': 0},\n",
    "        {'a': drone, 'h': [rice], 'I': 0, 'C': 0},\n",
    "        {'a': rice, 'h': [rice], 'I': 1000, 'C': 10},        \n",
    "        {'a': couscous, 'h': [rice], 'I': 1000, 'C': 20},\n",
    "        {'a': beer, 'h': [rice], 'I': 0, 'C': 0},\n",
    "        {'a': city, 'h': [couscous], 'I': 0, 'C': 0},\n",
    "        {'a': drone, 'h': [couscous], 'I': 0, 'C': 0},\n",
    "        {'a': rice, 'h': [couscous], 'I': 1000, 'C': 20},        \n",
    "        {'a': couscous, 'h': [couscous], 'I': 1000, 'C': 10},\n",
    "        {'a': beer, 'h': [couscous], 'I': 0, 'C': 0},\n",
    "        {'a': city, 'h': [beer], 'I': 1, 'C': 1},\n",
    "        {'a': drone, 'h': [beer], 'I': 0, 'C': 0},\n",
    "        {'a': rice, 'h': [beer], 'I': 0, 'C': 0},        \n",
    "        {'a': couscous, 'h': [beer], 'I': 0, 'C': 0},\n",
    "        {'a': beer, 'h': [beer], 'I': 1000, 'C': 20}]\n",
    "\n",
    "\n",
    "data_empty = [{'a': city, 'h': [city], 'I': 0, 'C': 0},\n",
    "        {'a': drone, 'h': [city], 'I': 0, 'C': 0},\n",
    "        {'a': rice, 'h': [city], 'I': 0, 'C': 0},        \n",
    "        {'a': couscous, 'h': [city], 'I': 0, 'C': 0},\n",
    "        {'a': beer, 'h': [city], 'I': 0, 'C': 0},        \n",
    "        {'a': city, 'h': [drone], 'I': 0, 'C': 0},\n",
    "        {'a': drone, 'h': [drone], 'I': 0, 'C': 0},\n",
    "        {'a': rice, 'h': [drone], 'I': 0, 'C': 0},                          \n",
    "        {'a': couscous, 'h': [drone], 'I': 0, 'C': 0},\n",
    "        {'a': beer, 'h': [drone], 'I': 0, 'C': 0},\n",
    "        {'a': city, 'h': [rice], 'I': 0, 'C': 0},\n",
    "        {'a': drone, 'h': [rice], 'I': 0, 'C': 0},\n",
    "        {'a': rice, 'h': [rice], 'I': 0, 'C': 0},        \n",
    "        {'a': couscous, 'h': [rice], 'I': 0, 'C': 0},\n",
    "        {'a': beer, 'h': [rice], 'I': 0, 'C': 0},\n",
    "        {'a': city, 'h': [couscous], 'I': 0, 'C': 0},\n",
    "        {'a': drone, 'h': [couscous], 'I': 0, 'C': 0},\n",
    "        {'a': rice, 'h': [couscous], 'I': 0, 'C': 0},        \n",
    "        {'a': couscous, 'h': [couscous], 'I': 0, 'C': 0},\n",
    "        {'a': beer, 'h': [couscous], 'I': 0, 'C': 0},\n",
    "        {'a': city, 'h': [beer], 'I': 0, 'C': 0},\n",
    "        {'a': drone, 'h': [beer], 'I': 0, 'C': 0},\n",
    "        {'a': rice, 'h': [beer], 'I': 0, 'C': 0},        \n",
    "        {'a': couscous, 'h': [beer], 'I': 0, 'C': 0},\n",
    "        {'a': beer, 'h': [beer], 'I': 0, 'C': 0}]"
   ]
  },
  {
   "cell_type": "code",
   "execution_count": 46,
   "metadata": {},
   "outputs": [
    {
     "data": {
      "text/plain": [
       "[{'a': 0, 'h': [0], 'I': 10000, 'C': 100},\n",
       " {'a': 1, 'h': [0], 'I': 10000, 'C': 200},\n",
       " {'a': 2, 'h': [0], 'I': 0, 'C': 0},\n",
       " {'a': 3, 'h': [0], 'I': 0, 'C': 0},\n",
       " {'a': 4, 'h': [0], 'I': 0, 'C': 0},\n",
       " {'a': 0, 'h': [1], 'I': 10000, 'C': 100},\n",
       " {'a': 1, 'h': [1], 'I': 10000, 'C': 100},\n",
       " {'a': 2, 'h': [1], 'I': 0, 'C': 0},\n",
       " {'a': 3, 'h': [1], 'I': 0, 'C': 0},\n",
       " {'a': 4, 'h': [1], 'I': 0, 'C': 0},\n",
       " {'a': 0, 'h': [2], 'I': 0, 'C': 0},\n",
       " {'a': 1, 'h': [2], 'I': 0, 'C': 0},\n",
       " {'a': 2, 'h': [2], 'I': 10000, 'C': 100},\n",
       " {'a': 3, 'h': [2], 'I': 10000, 'C': 200},\n",
       " {'a': 4, 'h': [2], 'I': 0, 'C': 0},\n",
       " {'a': 0, 'h': [3], 'I': 0, 'C': 0},\n",
       " {'a': 1, 'h': [3], 'I': 0, 'C': 0},\n",
       " {'a': 2, 'h': [3], 'I': 10000, 'C': 200},\n",
       " {'a': 3, 'h': [3], 'I': 10000, 'C': 100},\n",
       " {'a': 4, 'h': [3], 'I': 0, 'C': 0},\n",
       " {'a': 0, 'h': [4], 'I': 0, 'C': 0},\n",
       " {'a': 1, 'h': [4], 'I': 0, 'C': 0},\n",
       " {'a': 2, 'h': [4], 'I': 0, 'C': 0},\n",
       " {'a': 3, 'h': [4], 'I': 0, 'C': 0},\n",
       " {'a': 4, 'h': [4], 'I': 10000, 'C': 200}]"
      ]
     },
     "execution_count": 46,
     "metadata": {},
     "output_type": "execute_result"
    }
   ],
   "source": [
    "data"
   ]
  },
  {
   "cell_type": "code",
   "execution_count": 47,
   "metadata": {},
   "outputs": [],
   "source": [
    "def expand_data_binomial(d):\n",
    "    a = d['a']\n",
    "    omega = vstack([Psi[h,:] for h in d['h']]).mean(0)\n",
    "    c = d['C']\n",
    "    i = d['I']\n",
    "    return omega, a, c, i"
   ]
  },
  {
   "cell_type": "code",
   "execution_count": 48,
   "metadata": {},
   "outputs": [],
   "source": [
    "def do_plot(s):\n",
    "    med = s['ctr'].mean(0).flatten()\n",
    "    low = med - percentile(s['ctr'],2.5,axis=0).flatten()\n",
    "    up = percentile(s['ctr'],97.5,axis=0).flatten() - med\n",
    "\n",
    "\n",
    "    xnames = ['h=' + h+' a='+a for h,a in product(name_map.values(),name_map.values())]\n",
    "    figure(figsize=(10,8))\n",
    "\n",
    "    errorbar(xnames,y=med.flatten(),yerr=vstack((low,up)),fmt='.',ecolor='rrrrrgggggmmmmmccccckkkkk')\n",
    "    plot(xnames,med.flatten(),'go')\n",
    "    _ = xticks(rotation=90)\n",
    "\n",
    "    plot(xnames,(click)/(impres),'x')\n",
    "\n",
    "    \n",
    "def print_best_rec(s):\n",
    "    best_rec = s['ctr'].mean(0).argmax(1)\n",
    "\n",
    "    for ii in range(P):\n",
    "        print('when hist is ' + list(name_map.values())[ii] + ' recommend ' + list(name_map.values())[best_rec[ii]])"
   ]
  },
  {
   "cell_type": "code",
   "execution_count": null,
   "metadata": {},
   "outputs": [
    {
     "name": "stderr",
     "output_type": "stream",
     "text": [
      "INFO:pystan:COMPILING THE C++ CODE FOR MODEL anon_model_db65b353cae582ef7639d53ee6044e5e NOW.\n"
     ]
    }
   ],
   "source": [
    "import pystan\n",
    "\n",
    "\n",
    "script = \"\"\"\n",
    "data {\n",
    "  int P;\n",
    "  int N;\n",
    "  int K;\n",
    "  int click[N];\n",
    "  int impres[N];  \n",
    "  int a[N];\n",
    "  vector[K] omega[N];\n",
    "  matrix[P,K] Psi;\n",
    "  real w1;\n",
    "  real w2;\n",
    "}\n",
    "\n",
    "parameters {\n",
    "  matrix[K,K] eps;\n",
    "  real offset;\n",
    "  real rho[P];\n",
    "} transformed parameters{\n",
    "  matrix[P,K] beta;\n",
    "  \n",
    "  beta = w1 * Psi + w2 * Psi * eps;\n",
    "}\n",
    "\n",
    "model {\n",
    "  rho ~ normal(0, 0.1);\n",
    "  offset ~ normal(-8,2);\n",
    "  for (k in 1:K) {\n",
    "    eps[k] ~ normal(0, 1);\n",
    "  }\n",
    "  for (n in 1:N) {\n",
    "    click[n] ~ binomial_logit(impres[n],  dot_product(omega[n], beta[a[n],:]) + offset + rho[a[n]]);\n",
    "  }\n",
    "} generated quantities {\n",
    "  matrix[P,P] ctr;\n",
    "  for (p in 1:P) {\n",
    "     ctr = inv_logit(Psi * beta' + offset + rho[p]);\n",
    "  }\n",
    "}\n",
    "\"\"\"\n",
    "\n",
    "model = pystan.StanModel(model_code=script)\n"
   ]
  },
  {
   "cell_type": "markdown",
   "metadata": {},
   "source": [
    "Let's try the model using only the organic embeddings and no bandit data"
   ]
  },
  {
   "cell_type": "code",
   "execution_count": null,
   "metadata": {},
   "outputs": [],
   "source": [
    "# fit to the empty data set\n",
    "flat_data = vstack([hstack(expand_data_binomial(d)) for d in data_empty])\n",
    "omega = flat_data[:,0:K]\n",
    "action = array(flat_data[:,K],dtype=int)\n",
    "click = array(flat_data[:,K+1],dtype=int)\n",
    "impres = array(flat_data[:,K+2],dtype=int)\n",
    "\n",
    "N = omega.shape[0]\n",
    "fit=model.sampling(data={'w1': 1., 'w2': .5, 'click': click, 'impres': impres, 'N': N, 'P': P, 'a': action+1, 'K': K, 'Psi': Psi, 'omega': omega})\n",
    "s = fit.extract()"
   ]
  },
  {
   "cell_type": "code",
   "execution_count": null,
   "metadata": {},
   "outputs": [],
   "source": []
  },
  {
   "cell_type": "code",
   "execution_count": null,
   "metadata": {},
   "outputs": [],
   "source": [
    "do_plot(s)"
   ]
  },
  {
   "cell_type": "code",
   "execution_count": null,
   "metadata": {},
   "outputs": [],
   "source": [
    "print_best_rec(s)"
   ]
  },
  {
   "cell_type": "markdown",
   "metadata": {},
   "source": [
    "Now let's see if we get an advantage by using the bandit signal"
   ]
  },
  {
   "cell_type": "code",
   "execution_count": null,
   "metadata": {},
   "outputs": [],
   "source": [
    "flat_data = vstack([hstack(expand_data_binomial(d)) for d in data])\n",
    "omega = flat_data[:,0:K]\n",
    "action = array(flat_data[:,K],dtype=int)\n",
    "click = array(flat_data[:,K+1],dtype=int)\n",
    "impres = array(flat_data[:,K+2],dtype=int)\n",
    "\n",
    "N = omega.shape[0]\n",
    "fit=model.sampling(data={'w1': 1., 'w2': .5, 'click': click, 'impres': impres, 'N': N, 'P': P, 'a': action+1, 'K': K, 'Psi': Psi, 'omega': omega})\n",
    "s = fit.extract()"
   ]
  },
  {
   "cell_type": "code",
   "execution_count": null,
   "metadata": {},
   "outputs": [],
   "source": [
    "omega"
   ]
  },
  {
   "cell_type": "code",
   "execution_count": null,
   "metadata": {},
   "outputs": [],
   "source": [
    "Psi"
   ]
  },
  {
   "cell_type": "code",
   "execution_count": null,
   "metadata": {},
   "outputs": [],
   "source": [
    "action"
   ]
  },
  {
   "cell_type": "code",
   "execution_count": null,
   "metadata": {},
   "outputs": [],
   "source": [
    "do_plot(s)"
   ]
  },
  {
   "cell_type": "code",
   "execution_count": null,
   "metadata": {},
   "outputs": [],
   "source": [
    "print_best_rec(s)"
   ]
  },
  {
   "cell_type": "code",
   "execution_count": null,
   "metadata": {},
   "outputs": [],
   "source": [
    "s['beta'].mean(0)"
   ]
  },
  {
   "cell_type": "code",
   "execution_count": 44,
   "metadata": {},
   "outputs": [
    {
     "ename": "SyntaxError",
     "evalue": "invalid syntax (<ipython-input-44-187b039b1473>, line 1)",
     "output_type": "error",
     "traceback": [
      "\u001b[0;36m  File \u001b[0;32m\"<ipython-input-44-187b039b1473>\"\u001b[0;36m, line \u001b[0;32m1\u001b[0m\n\u001b[0;31m    imshow(s['eps'].std(0))vbl;/\"|\u001b[0m\n\u001b[0m                             ^\u001b[0m\n\u001b[0;31mSyntaxError\u001b[0m\u001b[0;31m:\u001b[0m invalid syntax\n"
     ]
    }
   ],
   "source": [
    "imshow(s['eps'].std(0))vbl;/\"|\n",
    "]{|P\"O;aqz§1234=\"}\""
   ]
  },
  {
   "cell_type": "code",
   "execution_count": null,
   "metadata": {},
   "outputs": [],
   "source": [
    "s['eps'].mean(0)"
   ]
  },
  {
   "cell_type": "code",
   "execution_count": null,
   "metadata": {},
   "outputs": [],
   "source": [
    "percentile(s['ctr'],50,axis=0).flatten()\n",
    "\n"
   ]
  },
  {
   "cell_type": "code",
   "execution_count": null,
   "metadata": {},
   "outputs": [],
   "source": [
    "s['ctr'].mean(0)"
   ]
  },
  {
   "cell_type": "code",
   "execution_count": null,
   "metadata": {},
   "outputs": [],
   "source": []
  },
  {
   "cell_type": "code",
   "execution_count": null,
   "metadata": {},
   "outputs": [],
   "source": [
    "# fit to the unlucky data set\n",
    "flat_data = vstack([hstack(expand_data_binomial(d)) for d in data_unlucky])\n",
    "omega = flat_data[:,0:K]\n",
    "action = array(flat_data[:,K],dtype=int)\n",
    "click = array(flat_data[:,K+1],dtype=int)\n",
    "impres = array(flat_data[:,K+2],dtype=int)\n",
    "\n",
    "N = omega.shape[0]\n",
    "fit=model.sampling(data={'w1': 1., 'w2': .5, 'click': click, 'impres': impres, 'N': N, 'P': P, 'a': action+1, 'K': K, 'Psi': Psi, 'omega': omega})\n",
    "s = fit.extract()"
   ]
  },
  {
   "cell_type": "code",
   "execution_count": null,
   "metadata": {},
   "outputs": [],
   "source": [
    "do_plot(s)\n",
    "ylim([0,0.04])"
   ]
  },
  {
   "cell_type": "code",
   "execution_count": null,
   "metadata": {},
   "outputs": [],
   "source": [
    "imshow(s['eps'].mean(0))"
   ]
  },
  {
   "cell_type": "code",
   "execution_count": null,
   "metadata": {},
   "outputs": [],
   "source": [
    "imshow(s['eps'].std(0))"
   ]
  },
  {
   "cell_type": "code",
   "execution_count": null,
   "metadata": {},
   "outputs": [],
   "source": [
    "# maximum likelihood also works quite well..  \n",
    "\n",
    "gg = model.optimizing(data={'w1': 1., 'w2': .5, 'click': click, 'impres': impres, 'N': N, 'P': P, 'a': action+1, 'K': K, 'Psi': Psi, 'omega': omega})\n",
    "xnames = ['h=' + h+' a='+a for h,a in product(name_map.values(),name_map.values())]\n",
    "\n",
    "\n",
    "do_plot(s)\n",
    "plot(xnames,gg['ctr'].flatten(),'ro')\n",
    "\n",
    "ylim([0,0.04])"
   ]
  },
  {
   "cell_type": "code",
   "execution_count": null,
   "metadata": {},
   "outputs": [],
   "source": []
  },
  {
   "cell_type": "code",
   "execution_count": null,
   "metadata": {},
   "outputs": [],
   "source": []
  },
  {
   "cell_type": "code",
   "execution_count": null,
   "metadata": {},
   "outputs": [],
   "source": []
  }
 ],
 "metadata": {
  "kernelspec": {
   "display_name": "Python 3",
   "language": "python",
   "name": "python3"
  },
  "language_info": {
   "codemirror_mode": {
    "name": "ipython",
    "version": 3
   },
   "file_extension": ".py",
   "mimetype": "text/x-python",
   "name": "python",
   "nbconvert_exporter": "python",
   "pygments_lexer": "ipython3",
   "version": "3.6.3"
  }
 },
 "nbformat": 4,
 "nbformat_minor": 2
}
