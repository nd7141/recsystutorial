{
  "nbformat": 4,
  "nbformat_minor": 0,
  "metadata": {
    "kernelspec": {
      "display_name": "Python 3",
      "language": "python",
      "name": "python3"
    },
    "language_info": {
      "codemirror_mode": {
        "name": "ipython",
        "version": 3
      },
      "file_extension": ".py",
      "mimetype": "text/x-python",
      "name": "python",
      "nbconvert_exporter": "python",
      "pygments_lexer": "ipython3",
      "version": "3.6.3"
    },
    "colab": {
      "name": "reco_bias_stan_basic_mvn_prior_full_rank_with_rt.ipynb",
      "provenance": [],
      "collapsed_sections": []
    }
  },
  "cells": [
    {
      "cell_type": "code",
      "metadata": {
        "id": "HPi8gsMxu6JN",
        "colab_type": "code",
        "colab": {}
      },
      "source": [
        "import matplotlib.pyplot as plt\n",
        "from itertools import product\n",
        "import numpy as np\n",
        "import matplotlib\n",
        "import pystan \n",
        "import warnings\n",
        "warnings.filterwarnings(\"ignore\")"
      ],
      "execution_count": null,
      "outputs": []
    },
    {
      "cell_type": "markdown",
      "metadata": {
        "id": "GzTDB3dAu-17",
        "colab_type": "text"
      },
      "source": [
        "We will be working with 5 products. We are given embedding of size 5 for each product. "
      ]
    },
    {
      "cell_type": "code",
      "metadata": {
        "id": "hyTBmLkbvEKa",
        "colab_type": "code",
        "colab": {}
      },
      "source": [
        "book, journal, rice, salad, beer = 0,1,2,3,4\n",
        "name_map = {book: 'book', journal: 'journal', rice: 'rice', salad: 'salad', beer: 'beer'}"
      ],
      "execution_count": null,
      "outputs": []
    },
    {
      "cell_type": "code",
      "metadata": {
        "id": "DgtnCiHKvH3-",
        "colab_type": "code",
        "colab": {}
      },
      "source": [
        "product_embeddings = np.array([[1.,0.5,0,0,0], [.6,1,0,0,0], [0,0,1,.3,0], [0,0,0.1,1,0], [0,.0,0,0,1]])\n",
        "num_products, dim = product_embeddings.shape\n",
        "w1 = 1.\n",
        "w2 = 1."
      ],
      "execution_count": null,
      "outputs": []
    },
    {
      "cell_type": "code",
      "metadata": {
        "id": "TVtBtPt5Kx_1",
        "colab_type": "code",
        "colab": {}
      },
      "source": [
        "P = 5 # number of products\n",
        "\n",
        "\n",
        "log = [{'a': book, 'h': [book], 'I': 1000, 'C': 100},\n",
        "        {'a': journal, 'h': [book], 'I': 1000, 'C': 20},\n",
        "        {'a': rice, 'h': [book], 'I': 0, 'C': 0},        \n",
        "        {'a': salad, 'h': [book], 'I': 0, 'C': 0},\n",
        "        {'a': beer, 'h': [book], 'I': 0, 'C': 0},        \n",
        "        {'a': book, 'h': [journal], 'I': 1000, 'C': 10},\n",
        "        {'a': journal, 'h': [journal], 'I': 1000, 'C': 10},\n",
        "        {'a': rice, 'h': [journal], 'I': 0, 'C': 0},                          \n",
        "        {'a': salad, 'h': [journal], 'I': 0, 'C': 0},\n",
        "        {'a': beer, 'h': [journal], 'I': 0, 'C': 0},\n",
        "        {'a': book, 'h': [rice], 'I': 0, 'C': 0},\n",
        "        {'a': journal, 'h': [rice], 'I': 0, 'C': 0},\n",
        "        {'a': rice, 'h': [rice], 'I': 1000, 'C': 10},        \n",
        "        {'a': salad, 'h': [rice], 'I': 1000, 'C': 20},\n",
        "        {'a': beer, 'h': [rice], 'I': 0, 'C': 0},\n",
        "        {'a': book, 'h': [salad], 'I': 0, 'C': 0},\n",
        "        {'a': journal, 'h': [salad], 'I': 0, 'C': 0},\n",
        "        {'a': rice, 'h': [salad], 'I': 1000, 'C': 20},        \n",
        "        {'a': salad, 'h': [salad], 'I': 1000, 'C': 10},\n",
        "        {'a': beer, 'h': [salad], 'I': 0, 'C': 0},\n",
        "        {'a': book, 'h': [beer], 'I': 0, 'C': 0},\n",
        "        {'a': journal, 'h': [beer], 'I': 0, 'C': 0},\n",
        "        {'a': rice, 'h': [beer], 'I': 0, 'C': 0},        \n",
        "        {'a': salad, 'h': [beer], 'I': 0, 'C': 0},\n",
        "        {'a': beer, 'h': [beer], 'I': 1000, 'C': 20}]"
      ],
      "execution_count": null,
      "outputs": []
    },
    {
      "cell_type": "code",
      "metadata": {
        "id": "miR8ihgpKx_-",
        "colab_type": "code",
        "colab": {}
      },
      "source": [
        "def expand_timelines(timeline, product_embeddings):\n",
        "  num_clicks = timeline['C']\n",
        "  num_impressions = timeline['I']\n",
        "  action = timeline['a']\n",
        "  history_embedding = np.vstack([product_embeddings[h,:] for h in timeline['h']]).mean(0)\n",
        "  return history_embedding, action, num_clicks, num_impressions\n",
        "\n",
        "def prepare_data(log, product_embeddings):\n",
        "  data = np.vstack([np.hstack(expand_timelines(d, product_embeddings)) for d in log])\n",
        "  user_embeddings = data[:, :dim]\n",
        "  actions = np.array(data[:, dim], dtype=int)\n",
        "  clicks = np.array(data[:, dim+1], dtype=int)\n",
        "  impressions = np.array(data[:, dim+2], dtype=int)\n",
        "  return user_embeddings, actions, clicks, impressions\n",
        "\n",
        "def plot_hist(extract, key='ctr', plot_ctr=True):\n",
        "    mean = extract[key].mean(0).flatten()\n",
        "    low = mean - np.percentile(extract[key], 2.5,axis=0).flatten()\n",
        "    up = np.percentile(extract[key], 97.5, axis=0).flatten() - mean\n",
        "\n",
        "\n",
        "    xnames = ['-'.join(arg) for arg in product(*[name_map.values()]*len(extract[key].mean(0).shape))]\n",
        "\n",
        "    plt.figure(figsize=(30, 8))\n",
        "\n",
        "    plt.errorbar(xnames, y=mean.flatten(), yerr=np.vstack((low,up)), fmt='.',ecolor=''.join([c*5 for c in ['b', 'g', 'r', 'c', 'm', 'y', 'k']]))\n",
        "    plt.plot(xnames, mean.flatten(),'go')\n",
        "    plt.tick_params(axis='both', which='major', labelsize=15)\n",
        "    _ = plt.xticks(rotation=90)\n",
        "\n",
        "    if len(extract[key].mean(0).shape) == 2 and plot_ctr:\n",
        "      plt.plot(xnames, (clicks)/(impressions), 'x', c='k')\n",
        "    plt.show()\n",
        "    \n",
        "def print_best_rec():\n",
        "    best_rec = extract['ctr'].mean(0).argmax(1)\n",
        "\n",
        "    for i in range(num_products):\n",
        "        print('when hist is ' + list(name_map.values())[i] + ', recommend ' + list(name_map.values())[best_rec[i]])"
      ],
      "execution_count": null,
      "outputs": []
    },
    {
      "cell_type": "code",
      "metadata": {
        "id": "eO7xu3RKKyAB",
        "colab_type": "code",
        "colab": {
          "base_uri": "https://localhost:8080/",
          "height": 34
        },
        "outputId": "4db8de24-7836-43f5-89a8-3119476545cc"
      },
      "source": [
        "script = \"\"\"\n",
        "data {\n",
        "  int N;\n",
        "  int num_products;\n",
        "  int dim;\n",
        "\n",
        "  int clicks[N];\n",
        "  int impressions[N];  \n",
        "  int actions[N];\n",
        "\n",
        "  matrix[N, dim] user_embeddings;\n",
        "  matrix[num_products, dim] product_embeddings;\n",
        "\n",
        "  real w1;\n",
        "  real w2;\n",
        "}\n",
        "\n",
        "parameters {\n",
        "  matrix[dim, dim] eps;\n",
        "  real offset;\n",
        "  real rho[num_products];\n",
        "} \n",
        "\n",
        "transformed parameters{\n",
        "  matrix[num_products, dim] beta;\n",
        "\n",
        "  beta = w1 * product_embeddings + w2 * product_embeddings * eps;\n",
        "}\n",
        "\n",
        "model {\n",
        "  rho ~ normal(0, 0.1);\n",
        "  offset ~ normal(-8,2);\n",
        "  for (k in 1:dim) {\n",
        "    eps[k] ~ normal(0, 1);\n",
        "  }\n",
        "\n",
        "  for (n in 1:N) {\n",
        "    clicks[n] ~ binomial_logit(impressions[n],  dot_product(user_embeddings[n], \n",
        "                              beta[actions[n],:]) + offset + rho[actions[n]]);\n",
        "  }\n",
        "}\n",
        "\n",
        "generated quantities {\n",
        "  matrix[num_products,num_products] ctr;\n",
        "  real ctr2[num_products,num_products,num_products];\n",
        "  real ctr_for_users[N];\n",
        "\n",
        "  for (n in 1:N) {\n",
        "    ctr_for_users[n] = inv_logit(dot_product(user_embeddings[n], beta[actions[n],:]) + offset + rho[actions[n]]);\n",
        "  }\n",
        "\n",
        "  for (h in 1:num_products) {\n",
        "    for (action in 1:num_products) {\n",
        "      ctr[h, action] = inv_logit(dot_product(product_embeddings[h, :], beta[action,:]) + offset + rho[action]);\n",
        "    }\n",
        "  }\n",
        "  \n",
        "  for (h1 in 1:num_products) {\n",
        "    for (h2 in 1:num_products) {\n",
        "      for (action in 1:num_products) {\n",
        "        ctr2[h1, h2, action] = inv_logit(dot_product((product_embeddings[h1, :]+product_embeddings[h2, :])/2, beta[action,:]) + offset + rho[action]);\n",
        "      }\n",
        "    }\n",
        "  }\n",
        "}\n",
        "\"\"\"\n",
        "\n",
        "\n",
        "model = pystan.StanModel(model_code=script)"
      ],
      "execution_count": null,
      "outputs": [
        {
          "output_type": "stream",
          "text": [
            "INFO:pystan:COMPILING THE C++ CODE FOR MODEL anon_model_2c6084743d55de859e958234dd2abeed NOW.\n"
          ],
          "name": "stderr"
        }
      ]
    },
    {
      "cell_type": "markdown",
      "metadata": {
        "id": "1YbkczLGKyAO",
        "colab_type": "text"
      },
      "source": [
        "Let's fit the model using the organic embeddings and the bandit data with Stan"
      ]
    },
    {
      "cell_type": "code",
      "metadata": {
        "id": "iT-Vce_4KyAP",
        "colab_type": "code",
        "colab": {}
      },
      "source": [
        "user_embeddings, actions, clicks, impressions = prepare_data(log, product_embeddings)\n",
        "\n",
        "N = user_embeddings.shape[0] \n",
        "\n",
        "fit=model.sampling(data={'w1': w1, 'w2': w2, 'clicks': clicks, 'impressions': impressions,\n",
        "                         'N': N, 'num_products': num_products, 'actions': actions+1,\n",
        "                         'dim': dim, 'product_embeddings': product_embeddings, \n",
        "                         'user_embeddings': user_embeddings})\n",
        "extract = fit.extract()"
      ],
      "execution_count": null,
      "outputs": []
    },
    {
      "cell_type": "code",
      "metadata": {
        "id": "OZezlHcFKyAS",
        "colab_type": "code",
        "colab": {
          "base_uri": "https://localhost:8080/",
          "height": 501
        },
        "outputId": "49b7d68e-8074-4ace-c54b-35142fd6c636"
      },
      "source": [
        "plot_hist(extract, 'ctr', True)"
      ],
      "execution_count": null,
      "outputs": [
        {
          "output_type": "display_data",
          "data": {
            "image/png": "[encoded data removed]",
            "text/plain": [
              "<Figure size 2160x576 with 1 Axes>"
            ]
          },
          "metadata": {
            "tags": [],
            "needs_background": "light"
          }
        }
      ]
    },
    {
      "cell_type": "code",
      "metadata": {
        "id": "SVo-dj8VKyAW",
        "colab_type": "code",
        "colab": {
          "base_uri": "https://localhost:8080/",
          "height": 105
        },
        "outputId": "809533bd-caff-4cd4-e09a-0f0ec6bb8dcf"
      },
      "source": [
        "print_best_rec()"
      ],
      "execution_count": null,
      "outputs": [
        {
          "output_type": "stream",
          "text": [
            "when hist is book, recommend book\n",
            "when hist is journal, recommend book\n",
            "when hist is rice, recommend salad\n",
            "when hist is salad, recommend rice\n",
            "when hist is beer, recommend beer\n"
          ],
          "name": "stdout"
        }
      ]
    },
    {
      "cell_type": "markdown",
      "metadata": {
        "id": "f8Gkyx13LAJo",
        "colab_type": "text"
      },
      "source": [
        "Exact sampling methods give near perfect results when the size of the dataset is small and the dimensionality of the problem is in the order of hundrers. In real life recommendation problem, these conditions are not met, we treat datasets of millions of records with a dimentionality that is at least linear on the number of products, meaning that these methods will suffer from very slow convergence time and we will need faster methods to infer our model's parameters.\n",
        "\n",
        "In this tutorial, we're gonna use variational bayes, coupled with the reparametrization trick, to approximately infer the posterior over our models parameters, trading off accuracy for scalability."
      ]
    },
    {
      "cell_type": "markdown",
      "metadata": {
        "id": "775V3ysYTzjO",
        "colab_type": "text"
      },
      "source": [
        "Bayesian statistics & ML can be reduced to computing integrals over posteriors that are defined as :\n",
        "$$P(\\theta|D) \\propto L(D|\\theta) P(\\theta) $$ \n",
        "\n",
        "with $L(D|\\theta)$ the likelihood and $P(\\theta)$ the prior over the parameters.\n",
        "\n",
        "Variational Bayes leverage another definition of the posterior, in terms of minimizing the kullback-leibler divergence.\n",
        "\n",
        "With $Q$ being the space of distributions that are absolutely continuous w.r.t the prior $P$, one can define the posterior by this trivial equation :\n",
        "\n",
        "$$P(\\theta|D) = \\text{argmin}_{q \\in Q} KL(q||P(\\theta|D)) $$ \n",
        "\n",
        "which is equivalent to :\n",
        "\n",
        "\\begin{align}\n",
        "P(\\theta|D) &= \\text{argmin}_{q \\in Q} - E_q[\\log L(D|\\theta)] + KL(q||P(\\theta)) \\\\\n",
        "&= \\text{argmin}_{q \\in Q} - ELBO(q)\n",
        "\\end{align}\n",
        "\n",
        "Meaning that minimizing the negative ELBO in the space of distributions will lead us to the true posterior. But for tractability, we always reduce the optimization space to a simpler parametric space where optimization is often tractable. We try to find a distribution $q_\\lambda^*$ which can approximate the true posterior, in a parametrised space $Q(\\lambda)$ which is for instance the family of multivariate gaussians in our case (parametrised by a mean and a covariance matrix).\n",
        "\n",
        "Our problem becomes :\n",
        "\n",
        "\\begin{align}\n",
        "q_\\lambda^* = \\text{argmin}_{q_\\lambda \\in Q(\\lambda)} - ELBO(q_\\lambda)\n",
        "\\end{align}"
      ]
    },
    {
      "cell_type": "code",
      "metadata": {
        "id": "L4_XaKiGKyAe",
        "colab_type": "code",
        "colab": {}
      },
      "source": [
        "import numpy as np\n",
        "from scipy.special import expit as sigmoid\n",
        "import matplotlib.pyplot as plt"
      ],
      "execution_count": null,
      "outputs": []
    },
    {
      "cell_type": "code",
      "metadata": {
        "id": "RkTEcXgQdRtM",
        "colab_type": "code",
        "colab": {}
      },
      "source": [
        "!pip install tensorflow==1.15.2"
      ],
      "execution_count": null,
      "outputs": []
    },
    {
      "cell_type": "code",
      "metadata": {
        "id": "CvMqHlYNKyAi",
        "colab_type": "code",
        "colab": {}
      },
      "source": [
        "import tensorflow as tf\n",
        "from tqdm import tqdm\n",
        "import matplotlib.pyplot as plt\n",
        "from sklearn.metrics import roc_auc_score\n",
        "\n",
        "tf.set_random_seed(42)\n",
        "\n",
        "inv_softplus = lambda x : np.log(np.exp(x) - 1)\n",
        "\n",
        "init_rho = inv_softplus(np.ones(P))[:,np.newaxis]"
      ],
      "execution_count": null,
      "outputs": []
    },
    {
      "cell_type": "markdown",
      "metadata": {
        "id": "u-omdTa_LEIp",
        "colab_type": "text"
      },
      "source": [
        "Our objective is to find the $\\text{argmin}_{q_\\lambda \\in Q(\\lambda)} - E_{q_\\lambda}[\\log L(D|\\theta)] + KL(q_\\lambda||P(\\theta))$. In our problem, $Q(\\lambda)$ is the family of factorized multivariate gaussians, with mean $\\mu$ and covariance $\\text{diag}(\\sigma^2)$. As we used gaussian priors in the definition of our model, we can leverage a closed form of the KL term found in the negative $ELBO$ :\n",
        "\n",
        "$$KL(\\mathcal{N}(\\mu, \\sigma^2)|\\mathcal{N}(\\mu_0, \\sigma_0^2)) = \\frac{1}{2}\\sum_{i=1}^d [2\\log \\frac{\\sigma_0{_i}}{\\sigma_i} - d + \\frac{\\sigma_i^2 + (\\mu_i - \\mu_0{_i})^2}{\\sigma_0{_i}^2}]$$"
      ]
    },
    {
      "cell_type": "code",
      "metadata": {
        "id": "RvuZXHEBKyAk",
        "colab_type": "code",
        "colab": {}
      },
      "source": [
        "\n",
        "def KL(means, stds, means0=0., stds0=1.):\n",
        "    \"\"\"\n",
        "    KL in the special case where the both distributions are \n",
        "    factorized multivariate gaussians\n",
        "    \"\"\"\n",
        "\n",
        "    dets = 2.0*tf.reduce_sum(tf.log(stds0)) - 2.0*tf.reduce_sum(tf.log(stds)) - tf.cast(means.shape[0], tf.float32)\n",
        "    trace_norm = tf.reduce_sum(stds**2 + (means - means0)**2)/(stds0**2)\n",
        "\n",
        "    KL = 0.5*(dets + trace_norm)\n",
        "\n",
        "    return KL\n",
        "\n"
      ],
      "execution_count": null,
      "outputs": []
    },
    {
      "cell_type": "code",
      "metadata": {
        "id": "vxMYHHtWKyAp",
        "colab_type": "code",
        "colab": {}
      },
      "source": [
        "P, K = num_products, dim\n",
        "\n",
        "tf.reset_default_graph()\n",
        "\n",
        "initial_mean = tf.zeros([K, K])\n",
        "initial_rho = tf.ones([P])\n",
        "\n",
        "tf_omega = tf.placeholder(dtype=tf.float32, shape = [N, K])\n",
        "tf_Psi = tf.placeholder(dtype=tf.float32, shape = [P, K])\n",
        "tf_a = tf.placeholder(dtype=tf.int32, shape = [N])\n",
        "\n",
        "tf_click = tf.placeholder(dtype=tf.float32, shape = [N])\n",
        "tf_impres = tf.placeholder(dtype=tf.float32, shape = [N])\n",
        "\n",
        "\n",
        "tf_eps_means = tf.Variable(initial_mean, dtype=tf.float32, name='eps_means')\n",
        "tf_eps_stds = tf.nn.softplus(tf.Variable(initial_mean, dtype=tf.float32), name='eps_stds')\n",
        "\n",
        "tf_rho_means = tf.Variable(initial_rho, dtype=tf.float32, name='rho_means')\n",
        "tf_rho_stds = tf.nn.softplus(tf.Variable(initial_rho, dtype=tf.float32), name='rho_stds')\n",
        "\n",
        "tf_offset_mean = tf.Variable(0. * tf.ones(1), dtype=tf.float32, name='offset_mean')\n",
        "tf_offset_stds = tf.nn.softplus(tf.Variable(tf.ones(1), dtype=tf.float32), name='offset_std')\n",
        "\n",
        "normal_noise_eps = tf.random_normal([K, K])\n",
        "normal_noise_rho = tf.random_normal([P])\n",
        "normal_noise_offset = tf.random_normal([1])"
      ],
      "execution_count": null,
      "outputs": []
    },
    {
      "cell_type": "markdown",
      "metadata": {
        "id": "kY8IMKtaSXxO",
        "colab_type": "text"
      },
      "source": [
        "Even if the KL has a closed form, we still need to compute the expectation of the loglikelihood under the variational posterior to get the $\\text{argmin}_{q_\\lambda \\in Q(\\lambda)} - E_{q_\\lambda}[\\log L(D|\\theta)] + KL(q_\\lambda||P(\\theta))$. This expectation is however intractable and we thus use a monte-carlo approximation based on the **reparametrization trick**. \n",
        "\n",
        "Leveraging the following simple result :\n",
        "$$x \\sim \\mathcal{N}(\\mu, \\sigma^2) \\iff x = \\mu + \\sigma \\epsilon \\quad \\epsilon \\sim \\mathcal{N}(0, 1)$$\n",
        "\n",
        "we can have a stochastic approximation of the negative $ELBO$, which we will optimize :\n",
        "\n",
        "$$\\text{argmin}_{\\mu, \\sigma} - \\log L(D_i|\\mu + \\sigma\\epsilon) + \\frac{1}{N}KL(\\mathcal{N}(\\mu, \\sigma^2)|\\mathcal{N}(\\mu_0, \\sigma_0^2)) \\quad \\epsilon \\sim \\mathcal{N}(0, 1)$$"
      ]
    },
    {
      "cell_type": "code",
      "metadata": {
        "id": "XflzMAvtKyAt",
        "colab_type": "code",
        "colab": {}
      },
      "source": [
        "eps_sample = tf_eps_means + tf_eps_stds * normal_noise_eps\n",
        "rho_sample = tf_rho_means + tf_rho_stds * normal_noise_rho\n",
        "offset_sample = tf_offset_mean + tf_offset_stds * normal_noise_offset\n",
        "\n",
        "tf_beta = w1 * tf_Psi + w2 * tf.matmul(tf_Psi,eps_sample)\n",
        "\n",
        "phi = tf.reduce_sum(tf.gather(tf_beta, tf_a) * tf_omega,1) + tf.gather(rho_sample,tf_a) + offset_sample \n",
        "\n",
        "Eq_loglik = tf.reduce_sum(tf_click * tf.log_sigmoid(phi) + (tf_impres - tf_click) * tf.log_sigmoid(-phi))\n",
        "\n",
        "mu0_rho = 0.0\n",
        "sigma0_rho = 0.1\n",
        "mu0_offset = -8.0\n",
        "sigma0_offset = 2.0\n",
        "\n",
        "# this is equation 1 from https://arxiv.org/pdf/1506.02557.pdf\n",
        "lower_bound = Eq_loglik - KL(tf_eps_means, tf_eps_stds) - KL(tf_rho_means, tf_rho_stds, mu0_rho, sigma0_rho) - KL(tf_offset_mean,tf_offset_stds, mu0_offset, sigma0_offset)\n",
        "loss = - lower_bound\n",
        "\n"
      ],
      "execution_count": null,
      "outputs": []
    },
    {
      "cell_type": "code",
      "metadata": {
        "id": "TRr2LQj6KyAv",
        "colab_type": "code",
        "colab": {
          "base_uri": "https://localhost:8080/",
          "height": 34
        },
        "outputId": "7973de9f-4dad-4ed0-f864-4ffd99e21c52"
      },
      "source": [
        "n_epochs = 100_000\n",
        "lr_rp = 1e-3\n",
        "\n",
        "optimizer = tf.train.AdamOptimizer(learning_rate=lr_rp)\n",
        "train_op = optimizer.minimize(loss)\n",
        "\n",
        "# Initialization op\n",
        "init_op = tf.global_variables_initializer()\n",
        "\n",
        "logs_rp, scores_rp = [], []\n",
        "kls_rp, ub_rp = [], []\n",
        "\n",
        "sess = tf.Session()\n",
        "sess.run(init_op)\n",
        "    \n",
        "for i in tqdm(range(n_epochs)):\n",
        "    sess.run(train_op, feed_dict={tf_a: actions, tf_click: clicks, tf_impres: impressions, tf_omega: user_embeddings, tf_Psi: product_embeddings})\n"
      ],
      "execution_count": null,
      "outputs": [
        {
          "output_type": "stream",
          "text": [
            "100%|██████████| 100000/100000 [01:18<00:00, 1272.65it/s]\n"
          ],
          "name": "stderr"
        }
      ]
    },
    {
      "cell_type": "code",
      "metadata": {
        "id": "YIoALiGDKyAy",
        "colab_type": "code",
        "colab": {
          "base_uri": "https://localhost:8080/",
          "height": 281
        },
        "outputId": "594d4b22-a50f-4316-bb51-9cc7d15f2a82"
      },
      "source": [
        "plt.imshow(sess.run(tf_eps_means))\n",
        "plt.colorbar()\n",
        "plt.title('Mean of eps - VB')\n",
        "plt.show()"
      ],
      "execution_count": null,
      "outputs": [
        {
          "output_type": "display_data",
          "data": {
            "image/png": "[encoded data removed]",
            "text/plain": [
              "<Figure size 432x288 with 2 Axes>"
            ]
          },
          "metadata": {
            "tags": [],
            "needs_background": "light"
          }
        }
      ]
    },
    {
      "cell_type": "code",
      "metadata": {
        "id": "5CV7_vhlKyA0",
        "colab_type": "code",
        "colab": {
          "base_uri": "https://localhost:8080/",
          "height": 281
        },
        "outputId": "2f2e9491-982f-477e-8240-1b90f4e2ebcb"
      },
      "source": [
        "plt.imshow(extract['eps'].mean(0))\n",
        "plt.colorbar()\n",
        "plt.title('Mean of eps - MCMC')\n",
        "plt.show()"
      ],
      "execution_count": null,
      "outputs": [
        {
          "output_type": "display_data",
          "data": {
            "image/png": "[encoded data removed]",
            "text/plain": [
              "<Figure size 432x288 with 2 Axes>"
            ]
          },
          "metadata": {
            "tags": [],
            "needs_background": "light"
          }
        }
      ]
    },
    {
      "cell_type": "code",
      "metadata": {
        "id": "Z68_DO-wKyA6",
        "colab_type": "code",
        "colab": {
          "base_uri": "https://localhost:8080/",
          "height": 294
        },
        "outputId": "8ad93e99-0841-45e1-ea83-0f6fd0a92100"
      },
      "source": [
        "plt.plot(extract['eps'].mean(0).flatten(),sess.run(tf_eps_means).flatten(),'.')\n",
        "plt.xlabel('MCMC')\n",
        "plt.ylabel('VB')\n",
        "plt.title('Means correlations')\n",
        "plt.show()"
      ],
      "execution_count": null,
      "outputs": [
        {
          "output_type": "display_data",
          "data": {
            "image/png": "[encoded data removed]",
            "text/plain": [
              "<Figure size 432x288 with 1 Axes>"
            ]
          },
          "metadata": {
            "tags": [],
            "needs_background": "light"
          }
        }
      ]
    },
    {
      "cell_type": "code",
      "metadata": {
        "id": "hJg9IiMkKyBB",
        "colab_type": "code",
        "colab": {
          "base_uri": "https://localhost:8080/",
          "height": 281
        },
        "outputId": "5f5d3c66-48af-4a27-b20c-ff0ff155e604"
      },
      "source": [
        "plt.imshow(extract['eps'].std(0))\n",
        "plt.colorbar()\n",
        "plt.title('stds of eps - MCMC')\n",
        "plt.show()"
      ],
      "execution_count": null,
      "outputs": [
        {
          "output_type": "display_data",
          "data": {
            "image/png": "[encoded data removed]",
            "text/plain": [
              "<Figure size 432x288 with 2 Axes>"
            ]
          },
          "metadata": {
            "tags": [],
            "needs_background": "light"
          }
        }
      ]
    },
    {
      "cell_type": "code",
      "metadata": {
        "id": "53AzpJyFKyBE",
        "colab_type": "code",
        "colab": {
          "base_uri": "https://localhost:8080/",
          "height": 281
        },
        "outputId": "a9497b59-3ece-4b4a-b406-58d117df5ae1"
      },
      "source": [
        "plt.imshow(sess.run(tf_eps_stds))\n",
        "plt.colorbar()\n",
        "plt.title('stds of eps - VB')\n",
        "plt.show()"
      ],
      "execution_count": null,
      "outputs": [
        {
          "output_type": "display_data",
          "data": {
            "image/png": "[encoded data removed]",
            "text/plain": [
              "<Figure size 432x288 with 2 Axes>"
            ]
          },
          "metadata": {
            "tags": [],
            "needs_background": "light"
          }
        }
      ]
    },
    {
      "cell_type": "code",
      "metadata": {
        "id": "O8DXY_PA4rlY",
        "colab_type": "code",
        "colab": {
          "base_uri": "https://localhost:8080/",
          "height": 294
        },
        "outputId": "1bd68c0d-d78e-4eaa-e2af-fa52784b6223"
      },
      "source": [
        "plt.plot(extract['eps'].std(0).flatten(), sess.run(tf_eps_stds).flatten(),'.')\n",
        "plt.xlabel('MCMC')\n",
        "plt.ylabel('VB')\n",
        "plt.title('Stds correlations')\n",
        "plt.show()"
      ],
      "execution_count": null,
      "outputs": [
        {
          "output_type": "display_data",
          "data": {
            "image/png": "[encoded data removed]",
            "text/plain": [
              "<Figure size 432x288 with 1 Axes>"
            ]
          },
          "metadata": {
            "tags": [],
            "needs_background": "light"
          }
        }
      ]
    },
    {
      "cell_type": "code",
      "metadata": {
        "id": "OCSfpXkhKyBH",
        "colab_type": "code",
        "colab": {
          "base_uri": "https://localhost:8080/",
          "height": 52
        },
        "outputId": "35b4b5e2-a888-4da9-89fd-3e0f3958b9d6"
      },
      "source": [
        "print('the offset estimated with VB is :', sess.run(tf_offset_mean)[0])\n",
        "print('the offset estimated with MCMC is :', extract['offset'].mean(0))"
      ],
      "execution_count": null,
      "outputs": [
        {
          "output_type": "stream",
          "text": [
            "the offset estimated with VB is : -5.0889535\n",
            "the offset estimated with MCMC is : -5.072971040432845\n"
          ],
          "name": "stdout"
        }
      ]
    },
    {
      "cell_type": "markdown",
      "metadata": {
        "id": "D_GZkJ2D009c",
        "colab_type": "text"
      },
      "source": [
        "The paper \"blob a probabilistic model for recommendation that combines organic and bandit signals\" extends this ideas.\n",
        "\n",
        "Paper code : https://github.com/criteo-research/blob"
      ]
    }
  ]
}