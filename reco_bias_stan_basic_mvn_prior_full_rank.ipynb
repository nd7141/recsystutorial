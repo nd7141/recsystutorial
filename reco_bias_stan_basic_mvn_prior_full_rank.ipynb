{
 "cells": [
  {
   "cell_type": "code",
   "execution_count": 1,
   "metadata": {},
   "outputs": [
    {
     "data": {
      "text/plain": [
       "array([[1. , 0. , 0. , 0. , 0. ],\n",
       "       [0.1, 1. , 0. , 0. , 0. ],\n",
       "       [0. , 0. , 1. , 0.1, 0. ],\n",
       "       [0. , 0. , 0.1, 1. , 0. ],\n",
       "       [0. , 0. , 0. , 0. , 1. ]])"
      ]
     },
     "execution_count": 1,
     "metadata": {},
     "output_type": "execute_result"
    }
   ],
   "source": [
    "import matplotlib.pyplot as plt\n",
    "from scipy.special import expit\n",
    "from pylab import *\n",
    "from itertools import product\n",
    "city =   0\n",
    "drone =  1\n",
    "couscous = 2\n",
    "rice = 3\n",
    "beer = 4\n",
    "name_map = {city: 'city phone', drone: 'drone phone', couscous: 'couscous', rice: 'rice', beer: 'beer'}\n",
    "\n",
    "# An embedding provided that gives similarities between products\n",
    "Psi = array([[1.,0.,0,0,0],[.1,1,0,0,0],[0,0,1,.1,0],[0,0,0.1,1,0],[0,.0,0,0,1]])\n",
    "P, K = Psi.shape\n",
    "\n",
    "Psi"
   ]
  },
  {
   "cell_type": "code",
   "execution_count": 2,
   "metadata": {},
   "outputs": [
    {
     "data": {
      "text/plain": [
       "array([[1.  , 0.1 , 0.  , 0.  , 0.  ],\n",
       "       [0.1 , 1.01, 0.  , 0.  , 0.  ],\n",
       "       [0.  , 0.  , 1.01, 0.2 , 0.  ],\n",
       "       [0.  , 0.  , 0.2 , 1.01, 0.  ],\n",
       "       [0.  , 0.  , 0.  , 0.  , 1.  ]])"
      ]
     },
     "execution_count": 2,
     "metadata": {},
     "output_type": "execute_result"
    }
   ],
   "source": [
    "matmul(Psi,Psi.T)"
   ]
  },
  {
   "cell_type": "code",
   "execution_count": 3,
   "metadata": {},
   "outputs": [],
   "source": [
    "P = 5 # number of products\n",
    "\n",
    "\n",
    "data = [{'a': city, 'h': [city], 'I': 1000, 'C': 10},\n",
    "        {'a': drone, 'h': [city], 'I': 1000, 'C': 20},\n",
    "        {'a': rice, 'h': [city], 'I': 1, 'C': 0},        \n",
    "        {'a': couscous, 'h': [city], 'I': 0, 'C': 0},\n",
    "        {'a': beer, 'h': [city], 'I': 1, 'C': 0},        \n",
    "        {'a': city, 'h': [drone], 'I': 1000, 'C': 10},\n",
    "        {'a': drone, 'h': [drone], 'I': 1000, 'C': 10},\n",
    "        {'a': rice, 'h': [drone], 'I': 1, 'C': 0},                          \n",
    "        {'a': couscous, 'h': [drone], 'I': 0, 'C': 0},\n",
    "        {'a': beer, 'h': [drone], 'I': 1, 'C': 0},\n",
    "        {'a': city, 'h': [couscous], 'I': 0, 'C': 0},\n",
    "        {'a': drone, 'h': [couscous], 'I': 0, 'C': 0},\n",
    "        {'a': rice, 'h': [couscous], 'I': 1000, 'C': 20},        \n",
    "        {'a': couscous, 'h': [couscous], 'I': 1000, 'C': 10},\n",
    "        {'a': beer, 'h': [couscous], 'I': 0, 'C': 0},\n",
    "        {'a': city, 'h': [rice], 'I': 0, 'C': 0},\n",
    "        {'a': drone, 'h': [rice], 'I': 0, 'C': 0},\n",
    "        {'a': rice, 'h': [rice], 'I': 1000, 'C': 10},        \n",
    "        {'a': couscous, 'h': [rice], 'I': 1000, 'C': 20},\n",
    "        {'a': beer, 'h': [rice], 'I': 0, 'C': 0},\n",
    "        {'a': city, 'h': [beer], 'I': 0, 'C': 0},\n",
    "        {'a': drone, 'h': [beer], 'I': 0, 'C': 0},\n",
    "        {'a': rice, 'h': [beer], 'I': 0, 'C': 0},        \n",
    "        {'a': couscous, 'h': [beer], 'I': 0, 'C': 0},\n",
    "        {'a': beer, 'h': [beer], 'I': 1000, 'C': 20}]\n",
    "\n",
    "\n",
    "data_empty = [{'a': city, 'h': [city], 'I': 0, 'C': 0},\n",
    "        {'a': drone, 'h': [city], 'I': 0, 'C': 0},\n",
    "        {'a': rice, 'h': [city], 'I': 0, 'C': 0},        \n",
    "        {'a': couscous, 'h': [city], 'I': 0, 'C': 0},\n",
    "        {'a': beer, 'h': [city], 'I': 0, 'C': 0},        \n",
    "        {'a': city, 'h': [drone], 'I': 0, 'C': 0},\n",
    "        {'a': drone, 'h': [drone], 'I': 0, 'C': 0},\n",
    "        {'a': rice, 'h': [drone], 'I': 0, 'C': 0},                          \n",
    "        {'a': couscous, 'h': [drone], 'I': 0, 'C': 0},\n",
    "        {'a': beer, 'h': [drone], 'I': 0, 'C': 0},\n",
    "        {'a': city, 'h': [couscous], 'I': 0, 'C': 0},\n",
    "        {'a': drone, 'h': [couscous], 'I': 0, 'C': 0},\n",
    "        {'a': rice, 'h': [couscous], 'I': 0, 'C': 0},        \n",
    "        {'a': couscous, 'h': [couscous], 'I': 0, 'C': 0},\n",
    "        {'a': beer, 'h': [couscous], 'I': 0, 'C': 0},\n",
    "        {'a': city, 'h': [rice], 'I': 0, 'C': 0},\n",
    "        {'a': drone, 'h': [rice], 'I': 0, 'C': 0},\n",
    "        {'a': rice, 'h': [rice], 'I': 0, 'C': 0},        \n",
    "        {'a': couscous, 'h': [rice], 'I': 0, 'C': 0},\n",
    "        {'a': beer, 'h': [rice], 'I': 0, 'C': 0},\n",
    "        {'a': city, 'h': [beer], 'I': 0, 'C': 0},\n",
    "        {'a': drone, 'h': [beer], 'I': 0, 'C': 0},\n",
    "        {'a': rice, 'h': [beer], 'I': 0, 'C': 0},        \n",
    "        {'a': couscous, 'h': [beer], 'I': 0, 'C': 0},\n",
    "        {'a': beer, 'h': [beer], 'I': 0, 'C': 0}]"
   ]
  },
  {
   "cell_type": "code",
   "execution_count": 4,
   "metadata": {},
   "outputs": [],
   "source": [
    "def expand_data_binomial(d):\n",
    "    a = d['a']\n",
    "    omega = vstack([Psi[h,:] for h in d['h']]).mean(0)\n",
    "    c = d['C']\n",
    "    i = d['I']\n",
    "    return omega, a, c, i"
   ]
  },
  {
   "cell_type": "code",
   "execution_count": 5,
   "metadata": {},
   "outputs": [],
   "source": [
    "def do_plot(s):\n",
    "    med = percentile(s['ctr'],50,axis=0).flatten()\n",
    "    low = med - percentile(s['ctr'],2.5,axis=0).flatten()\n",
    "    up = percentile(s['ctr'],97.5,axis=0).flatten() - med\n",
    "\n",
    "\n",
    "    xnames = ['h=' + h+' a='+a for h,a in product(name_map.values(),name_map.values())]\n",
    "    figure(figsize=(10,8))\n",
    "\n",
    "    errorbar(xnames,y=med.flatten(),yerr=vstack((low,up)),fmt='.',ecolor='rrrrrgggggmmmmmccccckkkkk')\n",
    "    _ = xticks(rotation=90)\n",
    "\n",
    "    plot(xnames,(click)/(impres),'x')\n",
    "\n",
    "    \n",
    "def print_best_rec(s):\n",
    "    best_rec = s['ctr'].mean(0).argmax(1)\n",
    "\n",
    "    for ii in range(P):\n",
    "        print('when hist is ' + list(name_map.values())[ii] + ' recommend ' + list(name_map.values())[best_rec[ii]])"
   ]
  },
  {
   "cell_type": "code",
   "execution_count": 6,
   "metadata": {},
   "outputs": [
    {
     "name": "stderr",
     "output_type": "stream",
     "text": [
      "INFO:pystan:COMPILING THE C++ CODE FOR MODEL anon_model_5cfe647b18b1d57444b101501388d713 NOW.\n"
     ]
    }
   ],
   "source": [
    "import pystan\n",
    "\n",
    "\n",
    "script = \"\"\"\n",
    "data {\n",
    "  int P;\n",
    "  int N;\n",
    "  int K;\n",
    "  int click[N];\n",
    "  int impres[N];  \n",
    "  int a[N];\n",
    "  vector[K] omega[N];\n",
    "  matrix[P,K] Psi;\n",
    "  real w1;\n",
    "  real w2;\n",
    "}\n",
    "\n",
    "parameters {\n",
    "  matrix[K,K] eps;\n",
    "  real offset;\n",
    "  real rho[P];\n",
    "} transformed parameters{\n",
    "  matrix[P,K] beta;\n",
    "  \n",
    "  beta = w1 * Psi + w2 * Psi * eps;\n",
    "}\n",
    "\n",
    "model {\n",
    "  rho ~ normal(0, 0.1);\n",
    "  offset ~ normal(-3,3);\n",
    "  for (k in 1:K) {\n",
    "    eps[k] ~ normal(0, 1);\n",
    "  }\n",
    "  for (n in 1:N) {\n",
    "    click[n] ~ binomial_logit(impres[n],  dot_product(omega[n], beta[a[n],:]) + offset + rho[a[n]]);\n",
    "  }\n",
    "} generated quantities {\n",
    "  matrix[P,P] ctr;\n",
    "  for (p in 1:P) {\n",
    "     ctr = inv_logit(Psi * beta' + offset + rho[p]);\n",
    "  }\n",
    "}\n",
    "\"\"\"\n",
    "\n",
    "model = pystan.StanModel(model_code=script)\n"
   ]
  },
  {
   "cell_type": "markdown",
   "metadata": {},
   "source": [
    "Let's try the model using only the organic embeddings and no bandit data"
   ]
  },
  {
   "cell_type": "code",
   "execution_count": 7,
   "metadata": {},
   "outputs": [],
   "source": [
    "# fit to the empty data set\n",
    "flat_data = vstack([hstack(expand_data_binomial(d)) for d in data_empty])\n",
    "omega = flat_data[:,0:K]\n",
    "action = array(flat_data[:,K],dtype=int)\n",
    "click = array(flat_data[:,K+1],dtype=int)\n",
    "impres = array(flat_data[:,K+2],dtype=int)\n",
    "\n",
    "N = omega.shape[0]\n",
    "fit=model.sampling(data={'w1': 1., 'w2': 1, 'click': click, 'impres': impres, 'N': N, 'P': P, 'a': action+1, 'K': K, 'Psi': Psi, 'omega': omega})\n",
    "s = fit.extract()"
   ]
  },
  {
   "cell_type": "code",
   "execution_count": 8,
   "metadata": {},
   "outputs": [
    {
     "data": {
      "image/png": "[encoded data removed]",
      "text/plain": [
       "<Figure size 720x576 with 1 Axes>"
      ]
     },
     "metadata": {},
     "output_type": "display_data"
    }
   ],
   "source": [
    "do_plot(s)"
   ]
  },
  {
   "cell_type": "code",
   "execution_count": 9,
   "metadata": {},
   "outputs": [
    {
     "name": "stdout",
     "output_type": "stream",
     "text": [
      "when hist is city phone recommend city phone\n",
      "when hist is drone phone recommend drone phone\n",
      "when hist is couscous recommend couscous\n",
      "when hist is rice recommend rice\n",
      "when hist is beer recommend beer\n"
     ]
    }
   ],
   "source": [
    "print_best_rec(s)"
   ]
  },
  {
   "cell_type": "markdown",
   "metadata": {},
   "source": [
    "Now let's see if we get an advantage by using the bandit signal"
   ]
  },
  {
   "cell_type": "code",
   "execution_count": 10,
   "metadata": {},
   "outputs": [],
   "source": [
    "flat_data = vstack([hstack(expand_data_binomial(d)) for d in data])\n",
    "omega = flat_data[:,0:K]\n",
    "action = array(flat_data[:,K],dtype=int)\n",
    "click = array(flat_data[:,K+1],dtype=int)\n",
    "impres = array(flat_data[:,K+2],dtype=int)\n",
    "\n",
    "N = omega.shape[0]\n",
    "fit=model.sampling(data={'w1': 1., 'w2': 1, 'click': click, 'impres': impres, 'N': N, 'P': P, 'a': action+1, 'K': K, 'Psi': Psi, 'omega': omega})\n",
    "s = fit.extract()"
   ]
  },
  {
   "cell_type": "code",
   "execution_count": 11,
   "metadata": {},
   "outputs": [
    {
     "data": {
      "image/png": "[encoded data removed]",
      "text/plain": [
       "<Figure size 720x576 with 1 Axes>"
      ]
     },
     "metadata": {},
     "output_type": "display_data"
    }
   ],
   "source": [
    "do_plot(s)"
   ]
  },
  {
   "cell_type": "code",
   "execution_count": 12,
   "metadata": {},
   "outputs": [
    {
     "name": "stdout",
     "output_type": "stream",
     "text": [
      "when hist is city phone recommend drone phone\n",
      "when hist is drone phone recommend couscous\n",
      "when hist is couscous recommend rice\n",
      "when hist is rice recommend couscous\n",
      "when hist is beer recommend beer\n"
     ]
    }
   ],
   "source": [
    "print_best_rec(s)"
   ]
  },
  {
   "cell_type": "code",
   "execution_count": 13,
   "metadata": {},
   "outputs": [
    {
     "data": {
      "text/plain": [
       "array([[ 3.57623743e-01,  2.15388914e-01, -6.13914889e-03,\n",
       "         6.92357970e-03, -8.96391526e-03],\n",
       "       [ 9.47491867e-01,  2.63551178e-01, -6.76295771e-04,\n",
       "        -5.17840739e-03, -5.18925267e-03],\n",
       "       [ 2.54617123e-03,  1.65679982e-02,  2.89962634e-01,\n",
       "         9.18688706e-01, -1.25388668e-02],\n",
       "       [-6.76279128e-03,  1.12377807e-02,  9.16689250e-01,\n",
       "         2.87926918e-01,  5.07835570e-03],\n",
       "       [-2.64672410e-02, -3.35538099e-02,  1.27711977e-02,\n",
       "        -1.38937025e-02,  1.00602771e+00]])"
      ]
     },
     "execution_count": 13,
     "metadata": {},
     "output_type": "execute_result"
    }
   ],
   "source": [
    "s['beta'].mean(0)"
   ]
  },
  {
   "cell_type": "code",
   "execution_count": 14,
   "metadata": {},
   "outputs": [
    {
     "data": {
      "text/plain": [
       "<matplotlib.image.AxesImage at 0x12270a2b0>"
      ]
     },
     "execution_count": 14,
     "metadata": {},
     "output_type": "execute_result"
    },
    {
     "data": {
      "image/png": "[encoded data removed]",
      "text/plain": [
       "<Figure size 432x288 with 1 Axes>"
      ]
     },
     "metadata": {},
     "output_type": "display_data"
    }
   ],
   "source": [
    "imshow(s['eps'].std(0))"
   ]
  },
  {
   "cell_type": "code",
   "execution_count": 15,
   "metadata": {},
   "outputs": [
    {
     "data": {
      "text/plain": [
       "array([[-6.42376257e-01,  2.15388914e-01, -6.13914889e-03,\n",
       "         6.92357970e-03, -8.96391526e-03],\n",
       "       [ 9.11729493e-01, -7.57987713e-01, -6.23808815e-05,\n",
       "        -5.87076536e-03, -4.29286114e-03],\n",
       "       [ 3.25500036e-03,  1.56002223e-02, -7.99703325e-01,\n",
       "         8.98884862e-01, -1.31784872e-02],\n",
       "       [-7.08829132e-03,  9.67775846e-03,  8.96659582e-01,\n",
       "        -8.01961568e-01,  6.39620442e-03],\n",
       "       [-2.64672410e-02, -3.35538099e-02,  1.27711977e-02,\n",
       "        -1.38937025e-02,  6.02770807e-03]])"
      ]
     },
     "execution_count": 15,
     "metadata": {},
     "output_type": "execute_result"
    }
   ],
   "source": [
    "s['eps'].mean(0)"
   ]
  },
  {
   "cell_type": "code",
   "execution_count": 16,
   "metadata": {},
   "outputs": [],
   "source": [
    "#Psi + Psi * eps\n"
   ]
  },
  {
   "cell_type": "code",
   "execution_count": null,
   "metadata": {},
   "outputs": [],
   "source": []
  }
 ],
 "metadata": {
  "kernelspec": {
   "display_name": "Python 3",
   "language": "python",
   "name": "python3"
  },
  "language_info": {
   "codemirror_mode": {
    "name": "ipython",
    "version": 3
   },
   "file_extension": ".py",
   "mimetype": "text/x-python",
   "name": "python",
   "nbconvert_exporter": "python",
   "pygments_lexer": "ipython3",
   "version": "3.6.3"
  }
 },
 "nbformat": 4,
 "nbformat_minor": 2
}
