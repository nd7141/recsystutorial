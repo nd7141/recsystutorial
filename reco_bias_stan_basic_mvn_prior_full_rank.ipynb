{
 "cells": [
  {
   "cell_type": "code",
   "execution_count": 181,
   "metadata": {},
   "outputs": [
    {
     "data": {
      "text/plain": [
       "array([[1. , 0.5, 0. , 0. , 0. ],\n",
       "       [0.1, 1. , 0. , 0. , 0. ],\n",
       "       [0. , 0. , 1. , 0.1, 0. ],\n",
       "       [0. , 0. , 0.1, 1. , 0. ],\n",
       "       [0. , 0. , 0. , 0. , 1. ]])"
      ]
     },
     "execution_count": 181,
     "metadata": {},
     "output_type": "execute_result"
    }
   ],
   "source": [
    "import matplotlib.pyplot as plt\n",
    "from scipy.special import expit\n",
    "from pylab import *\n",
    "from itertools import product\n",
    "city =   0\n",
    "drone =  1\n",
    "rice = 2\n",
    "couscous = 3\n",
    "beer = 4\n",
    "name_map = {city: 'city phone', drone: 'drone phone', rice: 'rice', couscous: 'couscous', beer: 'beer'}\n",
    "\n",
    "# An embedding provided that gives similarities between products\n",
    "Psi = array([[1.,0.5,0,0,0],[.1,1,0,0,0],[0,0,1,.1,0],[0,0,0.1,1,0],[0,.0,0,0,1]])\n",
    "P, K = Psi.shape\n",
    "\n",
    "Psi"
   ]
  },
  {
   "cell_type": "code",
   "execution_count": 182,
   "metadata": {},
   "outputs": [
    {
     "data": {
      "text/plain": [
       "array([[1.25, 0.6 , 0.  , 0.  , 0.  ],\n",
       "       [0.6 , 1.01, 0.  , 0.  , 0.  ],\n",
       "       [0.  , 0.  , 1.01, 0.2 , 0.  ],\n",
       "       [0.  , 0.  , 0.2 , 1.01, 0.  ],\n",
       "       [0.  , 0.  , 0.  , 0.  , 1.  ]])"
      ]
     },
     "execution_count": 182,
     "metadata": {},
     "output_type": "execute_result"
    }
   ],
   "source": [
    "matmul(Psi,Psi.T)"
   ]
  },
  {
   "cell_type": "code",
   "execution_count": 183,
   "metadata": {},
   "outputs": [],
   "source": [
    "P = 5 # number of products\n",
    "\n",
    "\n",
    "data = [{'a': city, 'h': [city], 'I': 10000, 'C': 100},\n",
    "        {'a': drone, 'h': [city], 'I': 10000, 'C': 200},\n",
    "        {'a': rice, 'h': [city], 'I': 0, 'C': 0},        \n",
    "        {'a': couscous, 'h': [city], 'I': 0, 'C': 0},\n",
    "        {'a': beer, 'h': [city], 'I': 0, 'C': 0},        \n",
    "        {'a': city, 'h': [drone], 'I': 10000, 'C': 100},\n",
    "        {'a': drone, 'h': [drone], 'I': 10000, 'C': 100},\n",
    "        {'a': rice, 'h': [drone], 'I': 0, 'C': 0},                          \n",
    "        {'a': couscous, 'h': [drone], 'I': 0, 'C': 0},\n",
    "        {'a': beer, 'h': [drone], 'I': 0, 'C': 0},\n",
    "        {'a': city, 'h': [rice], 'I': 0, 'C': 0},\n",
    "        {'a': drone, 'h': [rice], 'I': 0, 'C': 0},\n",
    "        {'a': rice, 'h': [rice], 'I': 10000, 'C': 100},        \n",
    "        {'a': couscous, 'h': [rice], 'I': 10000, 'C': 200},\n",
    "        {'a': beer, 'h': [rice], 'I': 0, 'C': 0},\n",
    "        {'a': city, 'h': [couscous], 'I': 0, 'C': 0},\n",
    "        {'a': drone, 'h': [couscous], 'I': 0, 'C': 0},\n",
    "        {'a': rice, 'h': [couscous], 'I': 10000, 'C': 200},        \n",
    "        {'a': couscous, 'h': [couscous], 'I': 10000, 'C': 100},\n",
    "        {'a': beer, 'h': [couscous], 'I': 0, 'C': 0},\n",
    "        {'a': city, 'h': [beer], 'I': 0, 'C': 0},\n",
    "        {'a': drone, 'h': [beer], 'I': 0, 'C': 0},\n",
    "        {'a': rice, 'h': [beer], 'I': 0, 'C': 0},        \n",
    "        {'a': couscous, 'h': [beer], 'I': 0, 'C': 0},\n",
    "        {'a': beer, 'h': [beer], 'I': 1000, 'C': 20}]\n",
    "\n",
    "\n",
    "data_empty = [{'a': city, 'h': [city], 'I': 0, 'C': 0},\n",
    "        {'a': drone, 'h': [city], 'I': 0, 'C': 0},\n",
    "        {'a': rice, 'h': [city], 'I': 0, 'C': 0},        \n",
    "        {'a': couscous, 'h': [city], 'I': 0, 'C': 0},\n",
    "        {'a': beer, 'h': [city], 'I': 0, 'C': 0},        \n",
    "        {'a': city, 'h': [drone], 'I': 0, 'C': 0},\n",
    "        {'a': drone, 'h': [drone], 'I': 0, 'C': 0},\n",
    "        {'a': rice, 'h': [drone], 'I': 0, 'C': 0},                          \n",
    "        {'a': couscous, 'h': [drone], 'I': 0, 'C': 0},\n",
    "        {'a': beer, 'h': [drone], 'I': 0, 'C': 0},\n",
    "        {'a': city, 'h': [rice], 'I': 0, 'C': 0},\n",
    "        {'a': drone, 'h': [rice], 'I': 0, 'C': 0},\n",
    "        {'a': rice, 'h': [rice], 'I': 0, 'C': 0},        \n",
    "        {'a': couscous, 'h': [rice], 'I': 0, 'C': 0},\n",
    "        {'a': beer, 'h': [rice], 'I': 0, 'C': 0},\n",
    "        {'a': city, 'h': [couscous], 'I': 0, 'C': 0},\n",
    "        {'a': drone, 'h': [couscous], 'I': 0, 'C': 0},\n",
    "        {'a': rice, 'h': [couscous], 'I': 0, 'C': 0},        \n",
    "        {'a': couscous, 'h': [couscous], 'I': 0, 'C': 0},\n",
    "        {'a': beer, 'h': [couscous], 'I': 0, 'C': 0},\n",
    "        {'a': city, 'h': [beer], 'I': 0, 'C': 0},\n",
    "        {'a': drone, 'h': [beer], 'I': 0, 'C': 0},\n",
    "        {'a': rice, 'h': [beer], 'I': 0, 'C': 0},        \n",
    "        {'a': couscous, 'h': [beer], 'I': 0, 'C': 0},\n",
    "        {'a': beer, 'h': [beer], 'I': 0, 'C': 0}]"
   ]
  },
  {
   "cell_type": "code",
   "execution_count": 184,
   "metadata": {},
   "outputs": [
    {
     "data": {
      "text/plain": [
       "[{'a': 0, 'h': [0], 'I': 10000, 'C': 100},\n",
       " {'a': 1, 'h': [0], 'I': 10000, 'C': 200},\n",
       " {'a': 2, 'h': [0], 'I': 0, 'C': 0},\n",
       " {'a': 3, 'h': [0], 'I': 0, 'C': 0},\n",
       " {'a': 4, 'h': [0], 'I': 0, 'C': 0},\n",
       " {'a': 0, 'h': [1], 'I': 10000, 'C': 100},\n",
       " {'a': 1, 'h': [1], 'I': 10000, 'C': 100},\n",
       " {'a': 2, 'h': [1], 'I': 0, 'C': 0},\n",
       " {'a': 3, 'h': [1], 'I': 0, 'C': 0},\n",
       " {'a': 4, 'h': [1], 'I': 0, 'C': 0},\n",
       " {'a': 0, 'h': [2], 'I': 0, 'C': 0},\n",
       " {'a': 1, 'h': [2], 'I': 0, 'C': 0},\n",
       " {'a': 2, 'h': [2], 'I': 10000, 'C': 100},\n",
       " {'a': 3, 'h': [2], 'I': 10000, 'C': 200},\n",
       " {'a': 4, 'h': [2], 'I': 0, 'C': 0},\n",
       " {'a': 0, 'h': [3], 'I': 0, 'C': 0},\n",
       " {'a': 1, 'h': [3], 'I': 0, 'C': 0},\n",
       " {'a': 2, 'h': [3], 'I': 10000, 'C': 200},\n",
       " {'a': 3, 'h': [3], 'I': 10000, 'C': 100},\n",
       " {'a': 4, 'h': [3], 'I': 0, 'C': 0},\n",
       " {'a': 0, 'h': [4], 'I': 0, 'C': 0},\n",
       " {'a': 1, 'h': [4], 'I': 0, 'C': 0},\n",
       " {'a': 2, 'h': [4], 'I': 0, 'C': 0},\n",
       " {'a': 3, 'h': [4], 'I': 0, 'C': 0},\n",
       " {'a': 4, 'h': [4], 'I': 1000, 'C': 20}]"
      ]
     },
     "execution_count": 184,
     "metadata": {},
     "output_type": "execute_result"
    }
   ],
   "source": [
    "data"
   ]
  },
  {
   "cell_type": "code",
   "execution_count": 185,
   "metadata": {},
   "outputs": [],
   "source": [
    "def expand_data_binomial(d):\n",
    "    a = d['a']\n",
    "    omega = vstack([Psi[h,:] for h in d['h']]).mean(0)\n",
    "    c = d['C']\n",
    "    i = d['I']\n",
    "    return omega, a, c, i"
   ]
  },
  {
   "cell_type": "code",
   "execution_count": 186,
   "metadata": {},
   "outputs": [],
   "source": [
    "def do_plot(s):\n",
    "    med = s['ctr'].mean(0).flatten()\n",
    "    low = med - percentile(s['ctr'],2.5,axis=0).flatten()\n",
    "    up = percentile(s['ctr'],97.5,axis=0).flatten() - med\n",
    "\n",
    "\n",
    "    xnames = ['h=' + h+' a='+a for h,a in product(name_map.values(),name_map.values())]\n",
    "    figure(figsize=(10,8))\n",
    "\n",
    "    errorbar(xnames,y=med.flatten(),yerr=vstack((low,up)),fmt='.',ecolor='rrrrrgggggmmmmmccccckkkkk')\n",
    "    _ = xticks(rotation=90)\n",
    "\n",
    "    plot(xnames,(click)/(impres),'x')\n",
    "\n",
    "    \n",
    "def print_best_rec(s):\n",
    "    best_rec = s['ctr'].mean(0).argmax(1)\n",
    "\n",
    "    for ii in range(P):\n",
    "        print('when hist is ' + list(name_map.values())[ii] + ' recommend ' + list(name_map.values())[best_rec[ii]])"
   ]
  },
  {
   "cell_type": "code",
   "execution_count": 187,
   "metadata": {},
   "outputs": [
    {
     "name": "stderr",
     "output_type": "stream",
     "text": [
      "INFO:pystan:COMPILING THE C++ CODE FOR MODEL anon_model_cbb5417387331e8cb59899ded87ad1c1 NOW.\n"
     ]
    }
   ],
   "source": [
    "import pystan\n",
    "\n",
    "\n",
    "script = \"\"\"\n",
    "data {\n",
    "  int P;\n",
    "  int N;\n",
    "  int K;\n",
    "  int click[N];\n",
    "  int impres[N];  \n",
    "  int a[N];\n",
    "  vector[K] omega[N];\n",
    "  matrix[P,K] Psi;\n",
    "  real w1;\n",
    "  real w2;\n",
    "}\n",
    "\n",
    "parameters {\n",
    "  matrix[K,K] eps;\n",
    "  real offset;\n",
    "  real rho[P];\n",
    "} transformed parameters{\n",
    "  matrix[P,K] beta;\n",
    "  \n",
    "  beta = w1 * Psi + w2 * Psi * eps;\n",
    "}\n",
    "\n",
    "model {\n",
    "  rho ~ normal(0, 0.1);\n",
    "  offset ~ normal(-5,3);\n",
    "  for (k in 1:K) {\n",
    "    eps[k] ~ normal(0, 1);\n",
    "  }\n",
    "  for (n in 1:N) {\n",
    "    click[n] ~ binomial_logit(impres[n],  dot_product(omega[n], beta[a[n],:]) + offset + rho[a[n]]);\n",
    "  }\n",
    "} generated quantities {\n",
    "  matrix[P,P] ctr;\n",
    "  for (p in 1:P) {\n",
    "     ctr = inv_logit(Psi * beta' + offset + rho[p]);\n",
    "  }\n",
    "}\n",
    "\"\"\"\n",
    "\n",
    "model = pystan.StanModel(model_code=script)\n"
   ]
  },
  {
   "cell_type": "markdown",
   "metadata": {},
   "source": [
    "Let's try the model using only the organic embeddings and no bandit data"
   ]
  },
  {
   "cell_type": "code",
   "execution_count": 188,
   "metadata": {},
   "outputs": [],
   "source": [
    "# fit to the empty data set\n",
    "flat_data = vstack([hstack(expand_data_binomial(d)) for d in data_empty])\n",
    "omega = flat_data[:,0:K]\n",
    "action = array(flat_data[:,K],dtype=int)\n",
    "click = array(flat_data[:,K+1],dtype=int)\n",
    "impres = array(flat_data[:,K+2],dtype=int)\n",
    "\n",
    "N = omega.shape[0]\n",
    "fit=model.sampling(data={'w1': 1., 'w2': 1, 'click': click, 'impres': impres, 'N': N, 'P': P, 'a': action+1, 'K': K, 'Psi': Psi, 'omega': omega})\n",
    "s = fit.extract()"
   ]
  },
  {
   "cell_type": "code",
   "execution_count": null,
   "metadata": {},
   "outputs": [],
   "source": []
  },
  {
   "cell_type": "code",
   "execution_count": 189,
   "metadata": {},
   "outputs": [
    {
     "data": {
      "image/png": "[encoded data removed]",
      "text/plain": [
       "<Figure size 720x576 with 1 Axes>"
      ]
     },
     "metadata": {},
     "output_type": "display_data"
    }
   ],
   "source": [
    "do_plot(s)"
   ]
  },
  {
   "cell_type": "code",
   "execution_count": 190,
   "metadata": {},
   "outputs": [
    {
     "name": "stdout",
     "output_type": "stream",
     "text": [
      "when hist is city phone recommend city phone\n",
      "when hist is drone phone recommend drone phone\n",
      "when hist is rice recommend rice\n",
      "when hist is couscous recommend couscous\n",
      "when hist is beer recommend beer\n"
     ]
    }
   ],
   "source": [
    "print_best_rec(s)"
   ]
  },
  {
   "cell_type": "markdown",
   "metadata": {},
   "source": [
    "Now let's see if we get an advantage by using the bandit signal"
   ]
  },
  {
   "cell_type": "code",
   "execution_count": 191,
   "metadata": {},
   "outputs": [],
   "source": [
    "flat_data = vstack([hstack(expand_data_binomial(d)) for d in data])\n",
    "omega = flat_data[:,0:K]\n",
    "action = array(flat_data[:,K],dtype=int)\n",
    "click = array(flat_data[:,K+1],dtype=int)\n",
    "impres = array(flat_data[:,K+2],dtype=int)\n",
    "\n",
    "N = omega.shape[0]\n",
    "fit=model.sampling(data={'w1': 1., 'w2': 1, 'click': click, 'impres': impres, 'N': N, 'P': P, 'a': action+1, 'K': K, 'Psi': Psi, 'omega': omega})\n",
    "s = fit.extract()"
   ]
  },
  {
   "cell_type": "code",
   "execution_count": 192,
   "metadata": {},
   "outputs": [
    {
     "data": {
      "text/plain": [
       "array([[1. , 0.5, 0. , 0. , 0. ],\n",
       "       [1. , 0.5, 0. , 0. , 0. ],\n",
       "       [1. , 0.5, 0. , 0. , 0. ],\n",
       "       [1. , 0.5, 0. , 0. , 0. ],\n",
       "       [1. , 0.5, 0. , 0. , 0. ],\n",
       "       [0.1, 1. , 0. , 0. , 0. ],\n",
       "       [0.1, 1. , 0. , 0. , 0. ],\n",
       "       [0.1, 1. , 0. , 0. , 0. ],\n",
       "       [0.1, 1. , 0. , 0. , 0. ],\n",
       "       [0.1, 1. , 0. , 0. , 0. ],\n",
       "       [0. , 0. , 1. , 0.1, 0. ],\n",
       "       [0. , 0. , 1. , 0.1, 0. ],\n",
       "       [0. , 0. , 1. , 0.1, 0. ],\n",
       "       [0. , 0. , 1. , 0.1, 0. ],\n",
       "       [0. , 0. , 1. , 0.1, 0. ],\n",
       "       [0. , 0. , 0.1, 1. , 0. ],\n",
       "       [0. , 0. , 0.1, 1. , 0. ],\n",
       "       [0. , 0. , 0.1, 1. , 0. ],\n",
       "       [0. , 0. , 0.1, 1. , 0. ],\n",
       "       [0. , 0. , 0.1, 1. , 0. ],\n",
       "       [0. , 0. , 0. , 0. , 1. ],\n",
       "       [0. , 0. , 0. , 0. , 1. ],\n",
       "       [0. , 0. , 0. , 0. , 1. ],\n",
       "       [0. , 0. , 0. , 0. , 1. ],\n",
       "       [0. , 0. , 0. , 0. , 1. ]])"
      ]
     },
     "execution_count": 192,
     "metadata": {},
     "output_type": "execute_result"
    }
   ],
   "source": [
    "omega"
   ]
  },
  {
   "cell_type": "code",
   "execution_count": 193,
   "metadata": {},
   "outputs": [
    {
     "data": {
      "text/plain": [
       "array([[1. , 0.5, 0. , 0. , 0. ],\n",
       "       [0.1, 1. , 0. , 0. , 0. ],\n",
       "       [0. , 0. , 1. , 0.1, 0. ],\n",
       "       [0. , 0. , 0.1, 1. , 0. ],\n",
       "       [0. , 0. , 0. , 0. , 1. ]])"
      ]
     },
     "execution_count": 193,
     "metadata": {},
     "output_type": "execute_result"
    }
   ],
   "source": [
    "Psi"
   ]
  },
  {
   "cell_type": "code",
   "execution_count": 194,
   "metadata": {},
   "outputs": [
    {
     "data": {
      "text/plain": [
       "array([0, 1, 2, 3, 4, 0, 1, 2, 3, 4, 0, 1, 2, 3, 4, 0, 1, 2, 3, 4, 0, 1,\n",
       "       2, 3, 4])"
      ]
     },
     "execution_count": 194,
     "metadata": {},
     "output_type": "execute_result"
    }
   ],
   "source": [
    "action"
   ]
  },
  {
   "cell_type": "code",
   "execution_count": 195,
   "metadata": {},
   "outputs": [
    {
     "data": {
      "image/png": "[encoded data removed]",
      "text/plain": [
       "<Figure size 720x576 with 1 Axes>"
      ]
     },
     "metadata": {},
     "output_type": "display_data"
    }
   ],
   "source": [
    "do_plot(s)"
   ]
  },
  {
   "cell_type": "code",
   "execution_count": 196,
   "metadata": {},
   "outputs": [
    {
     "name": "stdout",
     "output_type": "stream",
     "text": [
      "when hist is city phone recommend drone phone\n",
      "when hist is drone phone recommend rice\n",
      "when hist is rice recommend couscous\n",
      "when hist is couscous recommend rice\n",
      "when hist is beer recommend beer\n"
     ]
    }
   ],
   "source": [
    "print_best_rec(s)"
   ]
  },
  {
   "cell_type": "code",
   "execution_count": 197,
   "metadata": {},
   "outputs": [
    {
     "data": {
      "text/plain": [
       "array([[ 0.22636058,  0.35868214, -0.005691  , -0.02093835,  0.00120648],\n",
       "       [ 0.92218336,  0.30732054,  0.01510015, -0.01920215,  0.00375453],\n",
       "       [-0.01662125,  0.01020952,  0.28382146,  1.05130852, -0.00509827],\n",
       "       [-0.00177126, -0.00733876,  1.05512932,  0.28722476, -0.01363376],\n",
       "       [-0.00368412, -0.01611172,  0.00520506, -0.00909982,  1.06232994]])"
      ]
     },
     "execution_count": 197,
     "metadata": {},
     "output_type": "execute_result"
    }
   ],
   "source": [
    "s['beta'].mean(0)"
   ]
  },
  {
   "cell_type": "code",
   "execution_count": 198,
   "metadata": {},
   "outputs": [
    {
     "data": {
      "text/plain": [
       "<matplotlib.image.AxesImage at 0x126684f60>"
      ]
     },
     "execution_count": 198,
     "metadata": {},
     "output_type": "execute_result"
    },
    {
     "data": {
      "image/png": "[encoded data removed]",
      "text/plain": [
       "<Figure size 432x288 with 1 Axes>"
      ]
     },
     "metadata": {},
     "output_type": "display_data"
    }
   ],
   "source": [
    "imshow(s['eps'].std(0))"
   ]
  },
  {
   "cell_type": "code",
   "execution_count": 199,
   "metadata": {},
   "outputs": [
    {
     "data": {
      "text/plain": [
       "array([[-1.24708537e+00,  2.15812495e-01, -1.39379735e-02,\n",
       "        -1.19339725e-02, -7.06092868e-04],\n",
       "       [ 9.46891899e-01, -7.14260707e-01,  1.64939491e-02,\n",
       "        -1.80087573e-02,  3.82514419e-03],\n",
       "       [-1.66102271e-02,  1.10539375e-02, -8.19890374e-01,\n",
       "         1.03291520e+00, -3.77262227e-03],\n",
       "       [-1.10235832e-04, -8.44415330e-03,  1.03711836e+00,\n",
       "        -8.16066761e-01, -1.32565018e-02],\n",
       "       [-3.68411927e-03, -1.61117153e-02,  5.20505923e-03,\n",
       "        -9.09982269e-03,  6.23299432e-02]])"
      ]
     },
     "execution_count": 199,
     "metadata": {},
     "output_type": "execute_result"
    }
   ],
   "source": [
    "s['eps'].mean(0)"
   ]
  },
  {
   "cell_type": "code",
   "execution_count": 200,
   "metadata": {},
   "outputs": [
    {
     "data": {
      "text/plain": [
       "array([0.01017432, 0.01967717, 0.00669223, 0.00684807, 0.00671649,\n",
       "       0.00993091, 0.01011405, 0.00687376, 0.0066895 , 0.00667307,\n",
       "       0.00687882, 0.00697876, 0.01000965, 0.01984087, 0.00695676,\n",
       "       0.00668756, 0.00666881, 0.01978743, 0.010031  , 0.00677289,\n",
       "       0.00682729, 0.00677245, 0.0067689 , 0.00673064, 0.01961727])"
      ]
     },
     "execution_count": 200,
     "metadata": {},
     "output_type": "execute_result"
    }
   ],
   "source": [
    "percentile(s['ctr'],50,axis=0).flatten()\n",
    "\n"
   ]
  },
  {
   "cell_type": "code",
   "execution_count": 201,
   "metadata": {},
   "outputs": [
    {
     "data": {
      "text/plain": [
       "array([[0.01031276, 0.01992111, 0.01374579, 0.01352327, 0.01375177],\n",
       "       [0.01007257, 0.01025746, 0.01237367, 0.01195857, 0.01140002],\n",
       "       [0.01332961, 0.01220345, 0.01014342, 0.02006562, 0.01227763],\n",
       "       [0.0132519 , 0.01188027, 0.01997943, 0.01018626, 0.0121251 ],\n",
       "       [0.01355164, 0.01222474, 0.01229124, 0.01206531, 0.01991147]])"
      ]
     },
     "execution_count": 201,
     "metadata": {},
     "output_type": "execute_result"
    }
   ],
   "source": [
    "s['ctr'].mean(0)"
   ]
  },
  {
   "cell_type": "code",
   "execution_count": null,
   "metadata": {},
   "outputs": [],
   "source": []
  },
  {
   "cell_type": "code",
   "execution_count": null,
   "metadata": {},
   "outputs": [],
   "source": []
  }
 ],
 "metadata": {
  "kernelspec": {
   "display_name": "Python 3",
   "language": "python",
   "name": "python3"
  },
  "language_info": {
   "codemirror_mode": {
    "name": "ipython",
    "version": 3
   },
   "file_extension": ".py",
   "mimetype": "text/x-python",
   "name": "python",
   "nbconvert_exporter": "python",
   "pygments_lexer": "ipython3",
   "version": "3.6.3"
  }
 },
 "nbformat": 4,
 "nbformat_minor": 2
}
